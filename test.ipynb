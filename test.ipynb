# a recursive function that parses a markdown file and partitions it into a
# nested dictionary based on the level of current header
def recursive_md_chunker(markdown):
    # split the markdown into lines
    lines = markdown.split('\n')
    # initialize the dictionary
    md_dict = {}
    # initialize the current level
    current_level = 0
    # initialize the current header
    current_header = ''
    # initialize the current content
    current_content = ''
    # iterate through the lines
    for line in lines:
        # if the line is a header
        if line.startswith('#'):
            # if the current level is 0
            if current_level == 0:
                # set the current header to the line
                current_header = line
                # set the current level to 1
                current_level = 1
            # if the current level is 1
            elif current_level == 1:
                # set the current content to the current header
                md_dict[current_header] = current_content
                # set the current header to the line
                current_header = line
                # set the current level to 1
                current_level = 1
                # set the current content to an empty string
                current_content = ''
            # if the current level is 2
            elif current_level == 2:
                # set the current content to the current header
                md_dict[current_header] = current_content
                # set the current header to the line
                current_header = line
                # set the current level to 1
                current_level = 1
                # set the current content to an empty string
                current_content = ''
        # if the line is not a header
        else:
            # add the line to the current content
            current_content += line + '\n'
    # set the current content to the current header
    md_dict[current_header] = current_content
    # return the dictionary
    return md_dict

md = """

# Header 1

This is the content for header 1.

## Header 2

This is the content for header 2.

### Header 3

This is the content for header 3.
Once upon a midnight dreary, while I pondered, weak and weary,
over many a quaint and curious volume of forgotten lore,
while I nodded, nearly napping, suddenly there came a tapping,

## Header duo

This is the content for header duo.

### Header 3

This is the content for header 3.   

"""

print(recursive_md_chunker(md))
